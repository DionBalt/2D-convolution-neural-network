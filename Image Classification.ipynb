{
  "nbformat": 4,
  "nbformat_minor": 0,
  "metadata": {
    "colab": {
      "name": "Untitled1.ipynb",
      "provenance": []
    },
    "kernelspec": {
      "name": "python3",
      "display_name": "Python 3"
    }
  },
  "cells": [
    {
      "cell_type": "code",
      "metadata": {
        "id": "afhBQlkuGV2K",
        "colab": {
          "base_uri": "https://localhost:8080/",
          "height": 34
        },
        "outputId": "8bb72cf4-b948-42bd-f8b7-f58da1306d83"
      },
      "source": [
        "# TensorFlow and tf.keras\n",
        "import tensorflow as tf\n",
        "\n",
        "# Helper libraries\n",
        "from tensorflow.keras import backend as K\n",
        "import numpy as np\n",
        "import pandas as pd\n",
        "from sklearn.model_selection import train_test_split\n",
        "from sklearn.metrics import classification_report\n",
        "from tensorflow.python import keras\n",
        "from tensorflow.python.keras.models import Sequential\n",
        "from tensorflow.python.keras.layers import Dense, Flatten, Conv2D, Dropout, MaxPooling2D\n",
        "from IPython.display import SVG\n",
        "from keras.utils.vis_utils import model_to_dot\n",
        "from keras.utils import plot_model\n",
        "import seaborn as sns\n",
        "import matplotlib.pyplot as plt\n",
        "%matplotlib inline \n",
        "import plotly.graph_objs as go\n",
        "import plotly.figure_factory as ff\n",
        "from plotly import tools\n",
        "from plotly.offline import download_plotlyjs, init_notebook_mode, plot, iplot\n",
        "init_notebook_mode(connected=True)\n",
        "\n",
        "# Check that TF 2.3.0 is in use\n",
        "print(tf.__version__)"
      ],
      "execution_count": null,
      "outputs": [
        {
          "output_type": "display_data",
          "data": {
            "text/html": [
              "        <script type=\"text/javascript\">\n",
              "        window.PlotlyConfig = {MathJaxConfig: 'local'};\n",
              "        if (window.MathJax) {MathJax.Hub.Config({SVG: {font: \"STIX-Web\"}});}\n",
              "        if (typeof require !== 'undefined') {\n",
              "        require.undef(\"plotly\");\n",
              "        requirejs.config({\n",
              "            paths: {\n",
              "                'plotly': ['https://cdn.plot.ly/plotly-latest.min']\n",
              "            }\n",
              "        });\n",
              "        require(['plotly'], function(Plotly) {\n",
              "            window._Plotly = Plotly;\n",
              "        });\n",
              "        }\n",
              "        </script>\n",
              "        "
            ]
          },
          "metadata": {
            "tags": []
          }
        },
        {
          "output_type": "stream",
          "text": [
            "2.3.0\n"
          ],
          "name": "stdout"
        }
      ]
    },
    {
      "cell_type": "code",
      "metadata": {
        "id": "X-cZCm_1Grn8"
      },
      "source": [
        "#Import dataset\n",
        "fashion_mnist = tf.keras.datasets.fashion_mnist\n",
        "(train_images, train_labels), (test_images, test_labels) = fashion_mnist.load_data()"
      ],
      "execution_count": null,
      "outputs": []
    },
    {
      "cell_type": "code",
      "metadata": {
        "id": "Zn4IylDqH3EZ"
      },
      "source": [
        "class_names = ['T-shirt/top', 'Trouser', 'Pullover', 'Dress', 'Coat',\n",
        "               'Sandal', 'Shirt', 'Sneaker', 'Bag', 'Ankle boot']             "
      ],
      "execution_count": null,
      "outputs": []
    },
    {
      "cell_type": "code",
      "metadata": {
        "id": "YGmlvQIwIHch",
        "colab": {
          "base_uri": "https://localhost:8080/"
        },
        "outputId": "544fe3bb-b3e7-4165-a241-1fe3ee07b510"
      },
      "source": [
        "train_images.shape"
      ],
      "execution_count": null,
      "outputs": [
        {
          "output_type": "execute_result",
          "data": {
            "text/plain": [
              "(60000, 28, 28)"
            ]
          },
          "metadata": {
            "tags": []
          },
          "execution_count": 14
        }
      ]
    },
    {
      "cell_type": "code",
      "metadata": {
        "id": "gN1bl5yFIKJS",
        "colab": {
          "base_uri": "https://localhost:8080/"
        },
        "outputId": "a1b2252e-5a2b-4fef-8b82-419412d45ea8"
      },
      "source": [
        "train_labels"
      ],
      "execution_count": null,
      "outputs": [
        {
          "output_type": "execute_result",
          "data": {
            "text/plain": [
              "array([9, 0, 0, ..., 3, 0, 5], dtype=uint8)"
            ]
          },
          "metadata": {
            "tags": []
          },
          "execution_count": 4
        }
      ]
    },
    {
      "cell_type": "code",
      "metadata": {
        "id": "VsIzbZqJIZib",
        "colab": {
          "base_uri": "https://localhost:8080/"
        },
        "outputId": "d95e0fff-6a33-4424-91ce-7709bba65f33"
      },
      "source": [
        "test_images.shape"
      ],
      "execution_count": null,
      "outputs": [
        {
          "output_type": "execute_result",
          "data": {
            "text/plain": [
              "(10000, 28, 28)"
            ]
          },
          "metadata": {
            "tags": []
          },
          "execution_count": 15
        }
      ]
    },
    {
      "cell_type": "code",
      "metadata": {
        "id": "Twal5CoYIo5h",
        "colab": {
          "base_uri": "https://localhost:8080/",
          "height": 265
        },
        "outputId": "3194f6ae-4fef-4a30-feec-72e02b595489"
      },
      "source": [
        "plt.figure()\n",
        "plt.imshow(train_images[0])\n",
        "plt.colorbar()\n",
        "plt.grid(False)\n",
        "plt.show()"
      ],
      "execution_count": null,
      "outputs": [
        {
          "output_type": "display_data",
          "data": {
            "image/png": "[encoded data removed]",
            "text/plain": [
              "<Figure size 432x288 with 2 Axes>"
            ]
          },
          "metadata": {
            "tags": [],
            "needs_background": "light"
          }
        }
      ]
    },
    {
      "cell_type": "code",
      "metadata": {
        "id": "hGQowto6RhFm",
        "colab": {
          "base_uri": "https://localhost:8080/"
        },
        "outputId": "a03d0bb9-fb39-4d8f-85d0-605292e33587"
      },
      "source": [
        "#Normalize \n",
        "train_images = train_images/255.0\n",
        "test_images = test_images/255.0\n",
        "train_labels = tf.keras.utils.to_categorical(train_labels, num_classes=10)\n",
        "test_labels = tf.keras.utils.to_categorical(test_labels, num_classes=10)\n",
        "print('Reshaped Training Features:', train_images.shape)\n",
        "print('Reshaped Testing Features:', test_images.shape)\n",
        "img_rows, img_cols = 28, 28\n",
        "if K.image_data_format() == 'channels_first':\n",
        "    data_train = train_images.reshape(train_images.shape[0], 1, img_rows, img_cols)\n",
        "    data_test = test_images_test.reshape(test_images.shape[0], 1, img_rows, img_cols)\n",
        "    input_shape = (1, img_rows, img_cols)\n",
        "else:\n",
        "    train_images = train_images.reshape(train_images.shape[0], img_rows, img_cols, 1)\n",
        "    test_images = test_images.reshape(test_images.shape[0], img_rows, img_cols, 1)\n",
        "    input_shape = (img_rows, img_cols, 1)#print('Reshaped Training Features:', train_images.shape)\n",
        "print('Reshaped Testing Features:', test_images.shape)\n",
        "#Create labels as one-hot vectors\n",
        "labels_train = tf.keras.utils.to_categorical(train_labels, num_classes=10)\n",
        "labels_test = tf.keras.utils.to_categorical(test_labels, num_classes=10)"
      ],
      "execution_count": null,
      "outputs": [
        {
          "output_type": "stream",
          "text": [
            "Reshaped Training Features: (60000, 28, 28)\n",
            "Reshaped Testing Features: (10000, 28, 28)\n",
            "Reshaped Testing Features: (10000, 28, 28, 1)\n"
          ],
          "name": "stdout"
        }
      ]
    },
    {
      "cell_type": "code",
      "metadata": {
        "scrolled": false,
        "id": "RmoE9jBX3v72",
        "colab": {
          "base_uri": "https://localhost:8080/"
        },
        "outputId": "2c457da5-4b7e-4497-fa5e-b0b0238f3ed0"
      },
      "source": [
        "def CNN_overfit():  \n",
        "    model = tf.keras.models.Sequential([\n",
        "            tf.keras.layers.Flatten(),\n",
        "            tf.keras.layers.Dense(1000, activation='relu',use_bias=True),\n",
        "            tf.keras.layers.Dropout(0.25),\n",
        "            tf.keras.layers.Dense(1000, activation='relu',use_bias=True),\n",
        "            tf.keras.layers.Dropout(0.25),\n",
        "            tf.keras.layers.Dense(500, activation='relu',use_bias=True),\n",
        "            tf.keras.layers.Dropout(0.25),\n",
        "            tf.keras.layers.Dense(128, activation='relu',use_bias=True),\n",
        "            tf.keras.layers.Dropout(0.2),\n",
        "            tf.keras.layers.Dense(10, activation='softmax')\n",
        "            ])\n",
        "    return model\n",
        "\n",
        "#Compile and train the model\n",
        "CNN_overfit = CNN_overfit()\n",
        "CNN_overfit.compile(loss=tf.keras.losses.CategoricalCrossentropy(), optimizer='Adam', metrics=['accuracy'])\n",
        "history_overfit1 = CNN_overfit.fit(train_images, train_labels, validation_data=(test_images, test_labels), epochs=5, batch_size=1000, shuffle=True)\n",
        "scores = CNN_overfit.evaluate(test_images, test_labels)  "
      ],
      "execution_count": null,
      "outputs": [
        {
          "output_type": "stream",
          "text": [
            "Epoch 1/5\n",
            "60/60 [==============================] - 16s 266ms/step - loss: 0.7215 - accuracy: 0.7377 - val_loss: 0.4496 - val_accuracy: 0.8385\n",
            "Epoch 2/5\n",
            "60/60 [==============================] - 16s 269ms/step - loss: 0.4245 - accuracy: 0.8475 - val_loss: 0.3809 - val_accuracy: 0.8608\n",
            "Epoch 3/5\n",
            "60/60 [==============================] - 16s 272ms/step - loss: 0.3726 - accuracy: 0.8656 - val_loss: 0.3847 - val_accuracy: 0.8590\n",
            "Epoch 4/5\n",
            "60/60 [==============================] - 16s 271ms/step - loss: 0.3483 - accuracy: 0.8733 - val_loss: 0.3531 - val_accuracy: 0.8710\n",
            "Epoch 5/5\n",
            "60/60 [==============================] - 16s 272ms/step - loss: 0.3342 - accuracy: 0.8770 - val_loss: 0.3600 - val_accuracy: 0.8723\n",
            "313/313 [==============================] - 2s 7ms/step - loss: 0.3600 - accuracy: 0.8723\n"
          ],
          "name": "stdout"
        }
      ]
    },
    {
      "cell_type": "code",
      "metadata": {
        "colab": {
          "base_uri": "https://localhost:8080/",
          "height": 596
        },
        "id": "6eqIkjliW_3U",
        "outputId": "a3ce65a7-09de-453b-b2c1-9a5f31256a03"
      },
      "source": [
        "plt.figure(figsize=(12,4))\n",
        "plt.subplot(121)\n",
        "plt.plot(np.linspace(1, 5, num=5, endpoint=True), history_overfit.history['val_loss']) \n",
        "plt.plot(np.linspace(1, 5, num=5, endpoint=True),history_overfit.history['loss'])\n",
        "plt.title('Loss vs Epoch', fontsize=12)\n",
        "plt.ylabel('Loss', fontsize=12)\n",
        "plt.xlabel('Epoch', fontsize=12)\n",
        "plt.legend(('Validation Loss','Training Loss'), fontsize=12, loc=5)\n",
        "\n",
        "plt.figure(figsize=(12,4))\n",
        "plt.subplot(121)\n",
        "plt.plot(np.linspace(1, 5, num=5, endpoint=True), history_overfit.history['val_accuracy']) \n",
        "plt.plot(np.linspace(1, 5, num=5, endpoint=True),history_overfit.history['accuracy'])\n",
        "plt.title('Accuracy (%) vs Epoch', fontsize=12)\n",
        "plt.ylabel('Accuracy (%)', fontsize=12)\n",
        "plt.xlabel('Epoch', fontsize=12)\n",
        "plt.legend(('Validation Accuracy','Training Accuracy'), fontsize=12, loc=5)"
      ],
      "execution_count": null,
      "outputs": [
        {
          "output_type": "execute_result",
          "data": {
            "text/plain": [
              "<matplotlib.legend.Legend at 0x7f093479e5c0>"
            ]
          },
          "metadata": {
            "tags": []
          },
          "execution_count": 13
        },
        {
          "output_type": "display_data",
          "data": {
            "image/png": "[encoded data removed]",
            "text/plain": [
              "<Figure size 864x288 with 1 Axes>"
            ]
          },
          "metadata": {
            "tags": [],
            "needs_background": "light"
          }
        },
        {
          "output_type": "display_data",
          "data": {
            "image/png": "[encoded data removed]",
            "text/plain": [
              "<Figure size 864x288 with 1 Axes>"
            ]
          },
          "metadata": {
            "tags": [],
            "needs_background": "light"
          }
        }
      ]
    }
  ]
}